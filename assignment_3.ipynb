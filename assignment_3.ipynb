{
 "cells": [
  {
   "cell_type": "code",
   "execution_count": 1,
   "id": "4305574a",
   "metadata": {},
   "outputs": [],
   "source": [
    "import numpy as np"
   ]
  },
  {
   "cell_type": "code",
   "execution_count": 2,
   "id": "f5fe4b40",
   "metadata": {},
   "outputs": [
    {
     "name": "stdout",
     "output_type": "stream",
     "text": [
      "[[ 23  19]\n",
      " [100 200]\n",
      " [ 13  17]]\n"
     ]
    }
   ],
   "source": [
    "data = np.array([[23,19], [100,200], [13, 17]])\n",
    "\n",
    "print(data)"
   ]
  },
  {
   "cell_type": "code",
   "execution_count": 6,
   "id": "10cb6cc3",
   "metadata": {},
   "outputs": [
    {
     "name": "stdout",
     "output_type": "stream",
     "text": [
      "[[ 230  190]\n",
      " [1000 2000]\n",
      " [ 130  170]]\n"
     ]
    }
   ],
   "source": [
    "#multiplying the data with 2\n",
    "multiplied_arr = data*10\n",
    "print(multiplied_arr)"
   ]
  },
  {
   "cell_type": "code",
   "execution_count": 5,
   "id": "a517fb76",
   "metadata": {},
   "outputs": [
    {
     "name": "stdout",
     "output_type": "stream",
     "text": [
      "[[ 46  38]\n",
      " [200 400]\n",
      " [ 26  34]]\n"
     ]
    }
   ],
   "source": [
    "#adding the data with itself\n",
    "added_arr = data + data\n",
    "print(added_arr)"
   ]
  },
  {
   "cell_type": "code",
   "execution_count": 14,
   "id": "2520da4e",
   "metadata": {},
   "outputs": [
    {
     "name": "stdout",
     "output_type": "stream",
     "text": [
      "[[23.9 10.1  9.3 10.4]\n",
      " [ 3.5  7.1 90.2 30.3]]\n"
     ]
    }
   ],
   "source": [
    "simple_arr = [[23.9, 10.1, 9.3, 10.4], [3.5, 7.1, 90.2, 30.3]]\n",
    "\n",
    "np_arr = np.array(simple_arr)\n",
    "print(np_arr)"
   ]
  },
  {
   "cell_type": "code",
   "execution_count": 15,
   "id": "b1c87169",
   "metadata": {},
   "outputs": [
    {
     "name": "stdout",
     "output_type": "stream",
     "text": [
      "2\n"
     ]
    }
   ],
   "source": [
    "#check the dimensions of numpy array\n",
    "print(np_arr.ndim)"
   ]
  },
  {
   "cell_type": "code",
   "execution_count": 11,
   "id": "5983a1d3",
   "metadata": {},
   "outputs": [
    {
     "name": "stdout",
     "output_type": "stream",
     "text": [
      "(2, 4)\n"
     ]
    }
   ],
   "source": [
    "#shape of the numpy array\n",
    "print(np_arr.shape)"
   ]
  },
  {
   "cell_type": "code",
   "execution_count": 18,
   "id": "c35577f6",
   "metadata": {},
   "outputs": [
    {
     "name": "stdout",
     "output_type": "stream",
     "text": [
      "float64\n",
      "int32\n"
     ]
    }
   ],
   "source": [
    "#check the type of the array\n",
    "print(np_arr.dtype)\n",
    "print(data.dtype)"
   ]
  },
  {
   "cell_type": "code",
   "execution_count": null,
   "id": "89aea77d",
   "metadata": {},
   "outputs": [
    {
     "data": {
      "text/plain": [
       "array([0., 0., 0., 0., 0., 0.])"
      ]
     },
     "execution_count": 21,
     "metadata": {},
     "output_type": "execute_result"
    }
   ],
   "source": [
    "#one dimensional array with zeros\n",
    "np.zeros(6)"
   ]
  },
  {
   "cell_type": "code",
   "execution_count": null,
   "id": "f4055cf1",
   "metadata": {},
   "outputs": [
    {
     "data": {
      "text/plain": [
       "array([[0., 0., 0., 0., 0., 0.],\n",
       "       [0., 0., 0., 0., 0., 0.],\n",
       "       [0., 0., 0., 0., 0., 0.]])"
      ]
     },
     "execution_count": 22,
     "metadata": {},
     "output_type": "execute_result"
    }
   ],
   "source": [
    "#two dimensional array with zeros\n",
    "np.zeros((3,6))"
   ]
  },
  {
   "cell_type": "code",
   "execution_count": 26,
   "id": "4d596c87",
   "metadata": {},
   "outputs": [
    {
     "data": {
      "text/plain": [
       "array([[[0., 0., 0., 0.],\n",
       "        [0., 0., 0., 0.],\n",
       "        [0., 0., 0., 0.]],\n",
       "\n",
       "       [[0., 0., 0., 0.],\n",
       "        [0., 0., 0., 0.],\n",
       "        [0., 0., 0., 0.]]])"
      ]
     },
     "execution_count": 26,
     "metadata": {},
     "output_type": "execute_result"
    }
   ],
   "source": [
    "#three dimensional array with zeros\n",
    "np.zeros((2,3,4))"
   ]
  },
  {
   "cell_type": "code",
   "execution_count": 28,
   "id": "baccb4ea",
   "metadata": {},
   "outputs": [
    {
     "data": {
      "text/plain": [
       "array([ 0,  1,  2,  3,  4,  5,  6,  7,  8,  9, 10])"
      ]
     },
     "execution_count": 28,
     "metadata": {},
     "output_type": "execute_result"
    }
   ],
   "source": [
    "np.arange(11)"
   ]
  },
  {
   "cell_type": "code",
   "execution_count": 30,
   "id": "575ee33b",
   "metadata": {},
   "outputs": [
    {
     "name": "stdout",
     "output_type": "stream",
     "text": [
      "type of data before type casting:  int32\n",
      "type of data after type casting:  float64\n"
     ]
    }
   ],
   "source": [
    "#type casting\n",
    "print(\"type of data before type casting: \", data.dtype)\n",
    "data = data.astype(np.float64)\n",
    "print(\"type of data after type casting: \", data.dtype)"
   ]
  },
  {
   "cell_type": "code",
   "execution_count": 33,
   "id": "e03e2f67",
   "metadata": {},
   "outputs": [
    {
     "name": "stdout",
     "output_type": "stream",
     "text": [
      "type of integral array before:  int32\n",
      "type of integral array after casting:  float64\n"
     ]
    }
   ],
   "source": [
    "#we can also use another array's dtype to type cast our array's type\n",
    "integral_arr = np.arange(17)\n",
    "floating_arr = np.array([[20.8, 10.3, 30.1], [30.3, 10.5, 11.3]])\n",
    "print(\"type of integral array before: \", integral_arr.dtype)\n",
    "integral_arr = integral_arr.astype(floating_arr.dtype)\n",
    "print(\"type of integral array after casting: \", integral_arr.dtype)"
   ]
  },
  {
   "cell_type": "code",
   "execution_count": null,
   "id": "97211a52",
   "metadata": {},
   "outputs": [
    {
     "name": "stdout",
     "output_type": "stream",
     "text": [
      "[0. 0. 0. 0. 0. 0. 0. 0. 0. 0. 0. 0. 0. 0. 0. 0. 0.]\n"
     ]
    }
   ],
   "source": [
    "#arithmatic operations with numpy arrays\n",
    "\n",
    "subtracted_arr = integral_arr - integral_arr\n",
    "print(\"Subtracted Array: \", subtracted_arr)\n",
    "\n"
   ]
  },
  {
   "cell_type": "code",
   "execution_count": null,
   "id": "0cb4d94e",
   "metadata": {},
   "outputs": [
    {
     "name": "stdout",
     "output_type": "stream",
     "text": [
      "[[ True False]\n",
      " [ True  True]]\n"
     ]
    }
   ],
   "source": [
    "#comparison in arrays\n",
    "arr_1 = np.array([[20, 10], \n",
    "                  [30, 40]])\n",
    "arr_2 = np.array([[11, 30],\n",
    "                   [20, 19]])\n",
    "compared_arr = arr_1 > arr_2\n",
    "print(compared_arr)"
   ]
  },
  {
   "cell_type": "code",
   "execution_count": 60,
   "id": "3ea8428f",
   "metadata": {},
   "outputs": [
    {
     "name": "stdout",
     "output_type": "stream",
     "text": [
      "[3 4 5 6]\n"
     ]
    }
   ],
   "source": [
    "#indexing and slicing\n",
    "arr = np.arange(13)\n",
    "print(arr[3:7])"
   ]
  },
  {
   "cell_type": "code",
   "execution_count": 61,
   "id": "1b025585",
   "metadata": {},
   "outputs": [
    {
     "name": "stdout",
     "output_type": "stream",
     "text": [
      "[4 5 6 7 8]\n"
     ]
    }
   ],
   "source": [
    "arr_slice = arr[4:9]\n",
    "print(arr_slice)"
   ]
  },
  {
   "cell_type": "code",
   "execution_count": 63,
   "id": "d9af4fc0",
   "metadata": {},
   "outputs": [
    {
     "name": "stdout",
     "output_type": "stream",
     "text": [
      "Elements of arr_slice:  [   4    5 1001    7    8]\n",
      "Elements of arr:  [   0    1    2    3    4    5 1001    7    8    9   10   11   12]\n"
     ]
    }
   ],
   "source": [
    "#modifying the elements of arr_slice\n",
    "arr_slice[2] = 1001\n",
    "print(\"Elements of arr_slice: \",arr_slice)\n",
    "print(\"Elements of arr: \", arr)"
   ]
  },
  {
   "cell_type": "code",
   "execution_count": null,
   "id": "ad80c4bf",
   "metadata": {},
   "outputs": [],
   "source": []
  }
 ],
 "metadata": {
  "kernelspec": {
   "display_name": "base",
   "language": "python",
   "name": "python3"
  },
  "language_info": {
   "codemirror_mode": {
    "name": "ipython",
    "version": 3
   },
   "file_extension": ".py",
   "mimetype": "text/x-python",
   "name": "python",
   "nbconvert_exporter": "python",
   "pygments_lexer": "ipython3",
   "version": "3.11.11"
  }
 },
 "nbformat": 4,
 "nbformat_minor": 5
}
